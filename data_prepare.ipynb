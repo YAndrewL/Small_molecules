{
 "cells": [
  {
   "cell_type": "code",
   "execution_count": null,
   "metadata": {},
   "outputs": [],
   "source": [
    "# prepare your data from pdb and mol2 file\n",
    "# this is a demo\n",
    "from biopandas.pdb import PandasPdb\n",
    "import numpy as np\n",
    "from scipy.spatial import distance\n",
    "import os"
   ]
  },
  {
   "cell_type": "code",
   "execution_count": null,
   "metadata": {},
   "outputs": [],
   "source": [
    "amino3to1dict = {'ASH': 'A',\n",
    "                 'ALA': 'A',\n",
    "                 'CYX': 'C',\n",
    "                 'CYS': 'C',\n",
    "                 'ASP': 'D',\n",
    "                 'GLU': 'E',\n",
    "                 'PHE': 'F',\n",
    "                 'GLY': 'G',\n",
    "                 'HIS': 'H',\n",
    "                 'HID': 'H',\n",
    "                 'HIE': 'H',\n",
    "                 'HIP': 'H',\n",
    "                 'ILE': 'I',\n",
    "                 'LYS': 'K',\n",
    "                 'LEU': 'L',\n",
    "                 'MET': 'M',\n",
    "                 'MSE': 'M',\n",
    "                 'ASN': 'N',\n",
    "                 'PYL': 'O',\n",
    "                 'HYP': 'P',\n",
    "                 'PRO': 'P',\n",
    "                 'GLN': 'Q',\n",
    "                 'ARG': 'R',\n",
    "                 'SER': 'S',\n",
    "                 'THR': 'T',\n",
    "                 'SEL': 'U',\n",
    "                 'VAL': 'V',\n",
    "                 'TRP': 'W',\n",
    "                 'TYR': 'Y',\n",
    "                 'MEN': 'X',\n",
    "                 'LCX': 'X'}  "
   ]
  },
  {
   "cell_type": "code",
   "execution_count": null,
   "metadata": {},
   "outputs": [],
   "source": [
    "with open('./Raw_data/SM/joined.txt', 'w') as out:\n",
    "    for pdb in os.listdir('./data/'):\n",
    "        if pdb.split('.')[-1] == 'pdb':\n",
    "            ppdb = PandasPdb().read_pdb('./data/' + pdb).df\n",
    "            atom = ppdb['ATOM']\n",
    "            atom = atom[atom['atom_name'] == 'CA']\n",
    "            seq = ''.join(list(map(lambda x: amino3to1dict[x] if x in amino3to1dict.keys() else 'x', list(atom['residue_name']))))\n",
    "            atom_coord = atom[['x_coord', 'y_coord', 'z_coord']].to_numpy()\n",
    "\n",
    "            ligand = ppdb['HETATM']\n",
    "            ligand_coord = ligand[['x_coord', 'y_coord', 'z_coord']].to_numpy()\n",
    "\n",
    "            dist_mat = distance.cdist(atom_coord, ligand_coord)\n",
    "            dist_min = dist_mat.min(-1)\n",
    "            bind_site = ''.join(['0' if d > 5.5 else '1' for d in dist_min])  # here 5.5 please refer to GraphBind paper.\n",
    "\n",
    "            out.write('>' + pdb + '\\n')\n",
    "            out.write(seq + '\\n')\n",
    "            out.write(bind_site + '\\n')"
   ]
  }
 ],
 "metadata": {
  "language_info": {
   "name": "python"
  },
  "orig_nbformat": 4
 },
 "nbformat": 4,
 "nbformat_minor": 2
}
