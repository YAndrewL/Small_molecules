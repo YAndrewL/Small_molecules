{
 "cells": [
  {
   "cell_type": "code",
   "execution_count": 22,
   "metadata": {},
   "outputs": [],
   "source": [
    "import numpy as np\n",
    "from sklearn.metrics import roc_auc_score, average_precision_score\n",
    "from triplet import TripletClassificationModel"
   ]
  },
  {
   "cell_type": "code",
   "execution_count": null,
   "metadata": {},
   "outputs": [],
   "source": [
    "# load data\n",
    "import pickle\n",
    "data = pickle.load(open('./Dataset/SM/esm_coach420.pkl', 'rb'))"
   ]
  },
  {
   "cell_type": "code",
   "execution_count": 2,
   "metadata": {},
   "outputs": [],
   "source": [
    "model = TripletClassificationModel.load_from_checkpoint('./triplet_classification/SM/cnn/05-22-21-19-03/epoch=18-step=40926.ckpt')  # load from ckpts\n",
    "predictor = model.full_model\n",
    "predictor.eval()  # for inference"
   ]
  },
  {
   "cell_type": "code",
   "execution_count": 13,
   "metadata": {},
   "outputs": [],
   "source": [
    "outs = np.concatenate([predictor(x[0].unsqueeze(0))[0].squeeze(0).detach().cpu().numpy() for x in data.values()])\n",
    "label = np.array(list(''.join([x[1] for x in data.values()]))).astype(np.int64)"
   ]
  },
  {
   "cell_type": "code",
   "execution_count": 24,
   "metadata": {},
   "outputs": [
    {
     "name": "stdout",
     "output_type": "stream",
     "text": [
      "0.9205210626619591\n",
      "0.6405246483057938\n"
     ]
    }
   ],
   "source": [
    "# make some statistics \n",
    "print(roc_auc_score(label, outs[:, 1]))\n",
    "print(average_precision_score(label, outs[:, 1]))"
   ]
  }
 ],
 "metadata": {
  "kernelspec": {
   "display_name": "torch",
   "language": "python",
   "name": "python3"
  },
  "language_info": {
   "codemirror_mode": {
    "name": "ipython",
    "version": 3
   },
   "file_extension": ".py",
   "mimetype": "text/x-python",
   "name": "python",
   "nbconvert_exporter": "python",
   "pygments_lexer": "ipython3",
   "version": "3.9.12"
  },
  "orig_nbformat": 4
 },
 "nbformat": 4,
 "nbformat_minor": 2
}
